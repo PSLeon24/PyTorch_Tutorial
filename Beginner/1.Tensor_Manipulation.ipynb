{
 "cells": [
  {
   "cell_type": "markdown",
   "id": "383dd9b4-4f50-4ed9-bc68-43f82524e495",
   "metadata": {},
   "source": [
    "# Tensor\n",
    "- Tensor(텐서): 배열, 행렬과 유사한 자료구조(특히 NumPy의 ndarray와 유사)\n",
    "    - 자동 미분(automatic differentiation)에 최적화"
   ]
  },
  {
   "cell_type": "code",
   "execution_count": 1,
   "id": "520bb399-7780-4e08-94ed-6df8e041416f",
   "metadata": {},
   "outputs": [],
   "source": [
    "import torch\n",
    "import numpy as np"
   ]
  },
  {
   "cell_type": "markdown",
   "id": "c47d293d-499e-4083-8b73-3b59988a4cf0",
   "metadata": {},
   "source": [
    "## 1. Initialize Tensor"
   ]
  },
  {
   "cell_type": "code",
   "execution_count": 2,
   "id": "3ebfe314-947a-4549-b9bc-902cd562abe5",
   "metadata": {},
   "outputs": [
    {
     "name": "stdout",
     "output_type": "stream",
     "text": [
      "tensor([[1, 2],\n",
      "        [3, 4]]) torch.int64\n"
     ]
    }
   ],
   "source": [
    "# directly generate a tensor from data\n",
    "data = [\n",
    "    [1, 2],\n",
    "    [3, 4]\n",
    "]\n",
    "x_data = torch.tensor(data)\n",
    "print(x_data, x_data.dtype)"
   ]
  },
  {
   "cell_type": "code",
   "execution_count": 3,
   "id": "70636483-9d19-40a7-954d-a61fd306815c",
   "metadata": {},
   "outputs": [
    {
     "name": "stdout",
     "output_type": "stream",
     "text": [
      "tensor([[1, 2],\n",
      "        [3, 4]]) torch.int64\n"
     ]
    }
   ],
   "source": [
    "# generate a tensor from numpy's array\n",
    "np_array = np.array(data)\n",
    "x_np = torch.from_numpy(np_array)\n",
    "print(x_np, x_np.dtype)"
   ]
  },
  {
   "cell_type": "code",
   "execution_count": 5,
   "id": "3b41a21a-58f0-4e60-92c9-c93d61d9aeb6",
   "metadata": {},
   "outputs": [
    {
     "name": "stdout",
     "output_type": "stream",
     "text": [
      "tensor([[1, 1],\n",
      "        [1, 1]]) torch.int64\n",
      "tensor([[0.7954, 0.9679],\n",
      "        [0.3293, 0.7113]], dtype=torch.float64) torch.float64\n"
     ]
    }
   ],
   "source": [
    "# generate a tensor from other tensor\n",
    "x_ones = torch.ones_like(x_data)\n",
    "print(x_ones, x_ones.dtype)\n",
    "\n",
    "x_rand = torch.rand_like(x_np, dtype=torch.float64)\n",
    "print(x_rand, x_rand.dtype)"
   ]
  },
  {
   "cell_type": "code",
   "execution_count": 9,
   "id": "5d5edbc4-dbb1-4d38-b57a-8976e8385a6e",
   "metadata": {},
   "outputs": [
    {
     "name": "stdout",
     "output_type": "stream",
     "text": [
      "tensor([[0.0197, 0.0914, 0.2466],\n",
      "        [0.3351, 0.8240, 0.4925]]) \n",
      "\n",
      "tensor([[1., 1., 1.],\n",
      "        [1., 1., 1.]]) \n",
      "\n",
      "tensor([[0., 0., 0.],\n",
      "        [0., 0., 0.]])\n"
     ]
    }
   ],
   "source": [
    "# use random or constant values\n",
    "shape = (2, 3,) # 2 x 3 shape\n",
    "rand_tensor = torch.rand(shape)\n",
    "ones_tensor = torch.ones(shape)\n",
    "zeros_tensor = torch.zeros(shape)\n",
    "\n",
    "print(rand_tensor, '\\n')\n",
    "print(ones_tensor, '\\n')\n",
    "print(zeros_tensor)"
   ]
  },
  {
   "cell_type": "markdown",
   "id": "85f7366b-a18d-4ddf-970f-bd722948cf75",
   "metadata": {},
   "source": [
    "## 2. Tensor Attributes"
   ]
  },
  {
   "cell_type": "code",
   "execution_count": 11,
   "id": "7e2fc1dc-660b-4dc2-8d10-fc2dfbe42e1c",
   "metadata": {},
   "outputs": [
    {
     "name": "stdout",
     "output_type": "stream",
     "text": [
      "tensor([[0.4745, 0.6935, 0.7354, 0.8944],\n",
      "        [0.2210, 0.8991, 0.1913, 0.0466],\n",
      "        [0.4702, 0.1596, 0.4828, 0.2836]])\n",
      "Shape of tensor: torch.Size([3, 4])\n",
      "Datatype of tensor: torch.float32\n",
      "Device tensor is stored on: cpu\n",
      "cuda:0\n",
      "Device tensor is stored on: cuda:0\n"
     ]
    }
   ],
   "source": [
    "tensor_rand = torch.rand(3, 4)\n",
    "\n",
    "print(tensor_rand)\n",
    "print(f'Shape of tensor: {tensor_rand.shape}')\n",
    "print(f'Datatype of tensor: {tensor_rand.dtype}')\n",
    "print(f'Device tensor is stored on: {tensor_rand.device}')\n",
    "\n",
    "device = torch.device('cuda:0' if torch.cuda.is_available() else 'cpu') # if GPU exists, move tensor in CPU to GPU\n",
    "print(device)\n",
    "\n",
    "tensor_rand = tensor_rand.to(device)\n",
    "print(f'Device tensor is stored on: {tensor_rand.device}')"
   ]
  },
  {
   "cell_type": "markdown",
   "id": "1afaee7b-a127-4d30-b6ad-93b2f1d93b7e",
   "metadata": {},
   "source": [
    "## 3. Tensor Operations"
   ]
  },
  {
   "cell_type": "code",
   "execution_count": 15,
   "id": "f547844b-9230-46c1-a6f1-3429a6003902",
   "metadata": {},
   "outputs": [
    {
     "name": "stdout",
     "output_type": "stream",
     "text": [
      "tensor([[1., 1., 1., 1.],\n",
      "        [1., 1., 1., 1.],\n",
      "        [1., 1., 1., 1.],\n",
      "        [1., 1., 1., 1.]])\n",
      "First row: tensor([1., 1., 1., 1.])\n",
      "First column: tensor([1., 1., 1., 1.])\n",
      "Last column: tensor([1., 1., 1., 1.])\n"
     ]
    }
   ],
   "source": [
    "# Indexing & Slicing\n",
    "tensor_ones = torch.ones(4, 4)\n",
    "\n",
    "print(tensor_ones)\n",
    "print(f'First row: {tensor_ones[0]}')\n",
    "print(f'First column: {tensor_ones[:, 0]}')\n",
    "print(f'Last column: {tensor_ones[:, -1]}')"
   ]
  },
  {
   "cell_type": "code",
   "execution_count": 18,
   "id": "8f019e08-9c44-4d92-8b06-ceb70002c92b",
   "metadata": {},
   "outputs": [
    {
     "name": "stdout",
     "output_type": "stream",
     "text": [
      "tensor([[1., 1., 1., 1.],\n",
      "        [1., 1., 1., 1.],\n",
      "        [1., 1., 1., 1.],\n",
      "        [1., 1., 1., 1.],\n",
      "        [1., 1., 1., 1.],\n",
      "        [1., 1., 1., 1.],\n",
      "        [1., 1., 1., 1.],\n",
      "        [1., 1., 1., 1.],\n",
      "        [1., 1., 1., 1.],\n",
      "        [1., 1., 1., 1.],\n",
      "        [1., 1., 1., 1.],\n",
      "        [1., 1., 1., 1.]])\n"
     ]
    }
   ],
   "source": [
    "# Concatenate some tensors\n",
    "t1 = torch.cat([tensor_ones, tensor_ones, tensor_ones], dim=0) # 행에 붙임\n",
    "print(t1)"
   ]
  },
  {
   "cell_type": "code",
   "execution_count": 19,
   "id": "b62c619c-9a28-4858-a0e5-ce35146d561f",
   "metadata": {},
   "outputs": [
    {
     "name": "stdout",
     "output_type": "stream",
     "text": [
      "tensor([[1., 1., 1., 1., 1., 1., 1., 1., 1., 1., 1., 1.],\n",
      "        [1., 1., 1., 1., 1., 1., 1., 1., 1., 1., 1., 1.],\n",
      "        [1., 1., 1., 1., 1., 1., 1., 1., 1., 1., 1., 1.],\n",
      "        [1., 1., 1., 1., 1., 1., 1., 1., 1., 1., 1., 1.]])\n"
     ]
    }
   ],
   "source": [
    "# Concatenate some tensors\n",
    "t2 = torch.cat([tensor_ones, tensor_ones, tensor_ones], dim=1) # 열에 붙임\n",
    "print(t2)"
   ]
  },
  {
   "cell_type": "code",
   "execution_count": 21,
   "id": "fb63f0db-fc40-455d-8071-634364676ee5",
   "metadata": {},
   "outputs": [
    {
     "name": "stdout",
     "output_type": "stream",
     "text": [
      "tensor([[4., 4., 4., 4.],\n",
      "        [4., 4., 4., 4.],\n",
      "        [4., 4., 4., 4.],\n",
      "        [4., 4., 4., 4.]])\n",
      "\n",
      "tensor([[4., 4., 4., 4.],\n",
      "        [4., 4., 4., 4.],\n",
      "        [4., 4., 4., 4.],\n",
      "        [4., 4., 4., 4.]])\n",
      "\n",
      "tensor([[4., 4., 4., 4.],\n",
      "        [4., 4., 4., 4.],\n",
      "        [4., 4., 4., 4.],\n",
      "        [4., 4., 4., 4.]])\n",
      "\n",
      "tensor([[1., 1., 1., 1.],\n",
      "        [1., 1., 1., 1.],\n",
      "        [1., 1., 1., 1.],\n",
      "        [1., 1., 1., 1.]])\n",
      "\n",
      "tensor([[1., 1., 1., 1.],\n",
      "        [1., 1., 1., 1.],\n",
      "        [1., 1., 1., 1.],\n",
      "        [1., 1., 1., 1.]])\n",
      "\n",
      "tensor([[1., 1., 1., 1.],\n",
      "        [1., 1., 1., 1.],\n",
      "        [1., 1., 1., 1.],\n",
      "        [1., 1., 1., 1.]])\n"
     ]
    }
   ],
   "source": [
    "# Arithmetic operations\n",
    "# Matrix multiplication = matmul() = @\n",
    "# Transpose of A: A.T\n",
    "\n",
    "y1 = tensor_ones @ tensor_ones.T\n",
    "print(y1)\n",
    "\n",
    "print()\n",
    "\n",
    "y2 = tensor_ones.matmul(tensor_ones.T)\n",
    "print(y2)\n",
    "\n",
    "print()\n",
    "\n",
    "y3 = torch.rand_like(y1)\n",
    "torch.matmul(tensor_ones, tensor_ones.T, out=y3)\n",
    "print(y3)\n",
    "print()\n",
    "\n",
    "# element-wise product - Hadamard product\n",
    "z1 = tensor_ones * tensor_ones\n",
    "print(z1)\n",
    "print()\n",
    "\n",
    "z2 = tensor_ones.mul(tensor_ones)\n",
    "print(z2)\n",
    "print()\n",
    "\n",
    "z3 = torch.rand_like(tensor_ones)\n",
    "torch.mul(tensor_ones, tensor_ones, out=z3)\n",
    "print(z3)"
   ]
  },
  {
   "cell_type": "code",
   "execution_count": 23,
   "id": "cbabe4f0-596a-4b7d-84d5-f82d0bed9409",
   "metadata": {},
   "outputs": [
    {
     "name": "stdout",
     "output_type": "stream",
     "text": [
      "16.0 <class 'float'>\n"
     ]
    }
   ],
   "source": [
    "# single-element tensor\n",
    "agg = tensor_ones.sum()\n",
    "agg_item = agg.item() # tensor transform to python value\n",
    "print(agg_item, type(agg_item))"
   ]
  },
  {
   "cell_type": "code",
   "execution_count": 24,
   "id": "1534b0fb-6684-430c-8b87-63f1a3360b4f",
   "metadata": {},
   "outputs": [
    {
     "name": "stdout",
     "output_type": "stream",
     "text": [
      "tensor([[1., 1., 1., 1.],\n",
      "        [1., 1., 1., 1.],\n",
      "        [1., 1., 1., 1.],\n",
      "        [1., 1., 1., 1.]])\n",
      "tensor([[6., 6., 6., 6.],\n",
      "        [6., 6., 6., 6.],\n",
      "        [6., 6., 6., 6.],\n",
      "        [6., 6., 6., 6.]])\n"
     ]
    }
   ],
   "source": [
    "# in-place operation ~ _\n",
    "print(tensor_ones)\n",
    "\n",
    "tensor_ones.add_(5)\n",
    "print(tensor_ones) # not encourage to use"
   ]
  },
  {
   "cell_type": "markdown",
   "id": "5d71c005-d3d3-45ca-951c-4d9600af1c95",
   "metadata": {},
   "source": [
    "## 4. NumPy Bridge"
   ]
  },
  {
   "cell_type": "code",
   "execution_count": 27,
   "id": "8304dd34-89d5-48fa-b8d3-b6feaaee050f",
   "metadata": {},
   "outputs": [
    {
     "name": "stdout",
     "output_type": "stream",
     "text": [
      "t: tensor([1., 1., 1., 1., 1.]), torch.float32\n"
     ]
    }
   ],
   "source": [
    "t = torch.ones(5)\n",
    "print(f't: {t}, {t.dtype}')"
   ]
  },
  {
   "cell_type": "code",
   "execution_count": 28,
   "id": "a79a44cd-ecc9-4553-ac5b-964fbdee028a",
   "metadata": {},
   "outputs": [
    {
     "name": "stdout",
     "output_type": "stream",
     "text": [
      "n: [1. 1. 1. 1. 1.], float32\n"
     ]
    }
   ],
   "source": [
    "n = t.numpy()\n",
    "print(f'n: {n}, {n.dtype}')"
   ]
  },
  {
   "cell_type": "code",
   "execution_count": 29,
   "id": "4d0714d5-c8a6-4b90-b2e7-cd5722dbabb1",
   "metadata": {},
   "outputs": [
    {
     "name": "stdout",
     "output_type": "stream",
     "text": [
      "tensor([2., 2., 2., 2., 2.])\n"
     ]
    }
   ],
   "source": [
    "t.add_(1)\n",
    "print(t)"
   ]
  }
 ],
 "metadata": {
  "kernelspec": {
   "display_name": "Python 3 (ipykernel)",
   "language": "python",
   "name": "python3"
  },
  "language_info": {
   "codemirror_mode": {
    "name": "ipython",
    "version": 3
   },
   "file_extension": ".py",
   "mimetype": "text/x-python",
   "name": "python",
   "nbconvert_exporter": "python",
   "pygments_lexer": "ipython3",
   "version": "3.10.14"
  }
 },
 "nbformat": 4,
 "nbformat_minor": 5
}
