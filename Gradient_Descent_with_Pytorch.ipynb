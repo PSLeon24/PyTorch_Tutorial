{
  "nbformat": 4,
  "nbformat_minor": 0,
  "metadata": {
    "colab": {
      "provenance": [],
      "authorship_tag": "ABX9TyO8yza7Y2mE9kEeVqads0XW",
      "include_colab_link": true
    },
    "kernelspec": {
      "name": "python3",
      "display_name": "Python 3"
    },
    "language_info": {
      "name": "python"
    }
  },
  "cells": [
    {
      "cell_type": "markdown",
      "metadata": {
        "id": "view-in-github",
        "colab_type": "text"
      },
      "source": [
        "<a href=\"https://colab.research.google.com/github/PSLeon24/PyTorch_Tutorial/blob/main/Gradient_Descent_with_Pytorch.ipynb\" target=\"_parent\"><img src=\"https://colab.research.google.com/assets/colab-badge.svg\" alt=\"Open In Colab\"/></a>"
      ]
    },
    {
      "cell_type": "code",
      "execution_count": 2,
      "metadata": {
        "id": "cdTlV0JG0IMN",
        "colab": {
          "base_uri": "https://localhost:8080/"
        },
        "outputId": "7af946e0-7254-4505-c448-32b0a3e76a18"
      },
      "outputs": [
        {
          "output_type": "execute_result",
          "data": {
            "text/plain": [
              "tensor([[0., 0., 0.],\n",
              "        [0., 0., 0.]])"
            ]
          },
          "metadata": {},
          "execution_count": 2
        }
      ],
      "source": [
        "import torch\n",
        "X = torch.Tensor(2, 3)\n",
        "X"
      ]
    },
    {
      "cell_type": "code",
      "source": [
        "X = torch.tensor([[1, 2, 3],[4, 5, 6]])\n",
        "X"
      ],
      "metadata": {
        "colab": {
          "base_uri": "https://localhost:8080/"
        },
        "id": "2jvT8IuCBuUj",
        "outputId": "5f745598-b49c-4d31-e9c4-69172afb6636"
      },
      "execution_count": 3,
      "outputs": [
        {
          "output_type": "execute_result",
          "data": {
            "text/plain": [
              "tensor([[1, 2, 3],\n",
              "        [4, 5, 6]])"
            ]
          },
          "metadata": {},
          "execution_count": 3
        }
      ]
    },
    {
      "cell_type": "code",
      "source": [
        "x_tensor = torch.tensor(data=[2.0, 3.0], requires_grad=True)\n",
        "x_tensor"
      ],
      "metadata": {
        "colab": {
          "base_uri": "https://localhost:8080/"
        },
        "id": "f5dPezZPB6UK",
        "outputId": "f96b141b-0ebf-443f-a67e-0791c9f57754"
      },
      "execution_count": 4,
      "outputs": [
        {
          "output_type": "execute_result",
          "data": {
            "text/plain": [
              "tensor([2., 3.], requires_grad=True)"
            ]
          },
          "metadata": {},
          "execution_count": 4
        }
      ]
    },
    {
      "cell_type": "code",
      "source": [
        "x = torch.tensor(data=[2.0, 3.0], requires_grad=True)\n",
        "y = x**2\n",
        "z = 2*y+3\n",
        "\n",
        "target = torch.tensor([3.0, 4.0])\n",
        "loss = torch.sum(torch.abs(z-target))\n",
        "loss.backward()\n",
        "\n",
        "print(x.grad, y.grad, z.grad)"
      ],
      "metadata": {
        "colab": {
          "base_uri": "https://localhost:8080/"
        },
        "id": "FQhzk17JC75l",
        "outputId": "f20169e2-aa15-4c3b-88f3-e20d4b0df323"
      },
      "execution_count": 5,
      "outputs": [
        {
          "output_type": "stream",
          "name": "stdout",
          "text": [
            "tensor([ 8., 12.]) None None\n"
          ]
        },
        {
          "output_type": "stream",
          "name": "stderr",
          "text": [
            "<ipython-input-5-3728717930>:9: UserWarning: The .grad attribute of a Tensor that is not a leaf Tensor is being accessed. Its .grad attribute won't be populated during autograd.backward(). If you indeed want the .grad field to be populated for a non-leaf Tensor, use .retain_grad() on the non-leaf Tensor. If you access the non-leaf Tensor by mistake, make sure you access the leaf Tensor instead. See github.com/pytorch/pytorch/pull/30531 for more informations. (Triggered internally at /pytorch/build/aten/src/ATen/core/TensorBody.h:489.)\n",
            "  print(x.grad, y.grad, z.grad)\n"
          ]
        }
      ]
    },
    {
      "cell_type": "code",
      "source": [
        "import torch\n",
        "import torch.nn as nn\n",
        "import torch.optim as optim\n",
        "import torch.nn.init as init"
      ],
      "metadata": {
        "id": "1SzEadU3Dlv1"
      },
      "execution_count": 6,
      "outputs": []
    },
    {
      "cell_type": "code",
      "source": [
        "num_data = 1000\n",
        "num_epoch = 500\n",
        "\n",
        "x = init.uniform_(torch.Tensor(num_data, 1), -10, 10)\n",
        "noise = init.normal_(torch.FloatTensor(num_data, 1), std=1)\n",
        "y = 2*x+3\n",
        "y_noise = y + noise"
      ],
      "metadata": {
        "id": "kf245akHDyqL"
      },
      "execution_count": 7,
      "outputs": []
    },
    {
      "cell_type": "code",
      "source": [
        "model = nn.Linear(1, 1)\n",
        "loss_func = nn.L1Loss()"
      ],
      "metadata": {
        "id": "JryA6toEEP9s"
      },
      "execution_count": 8,
      "outputs": []
    },
    {
      "cell_type": "code",
      "source": [
        "optimizer = optim.SGD(model.parameters(), lr=0.01)"
      ],
      "metadata": {
        "id": "Hxt8da05EUDU"
      },
      "execution_count": 9,
      "outputs": []
    },
    {
      "cell_type": "code",
      "source": [
        "label = y_noise\n",
        "\n",
        "loss_arr = []\n",
        "\n",
        "for i in range(num_epoch):\n",
        "  optimizer.zero_grad()\n",
        "  output = model(x)\n",
        "\n",
        "  loss = loss_func(output, label)\n",
        "  loss_arr.append(loss.data)\n",
        "  loss.backward()\n",
        "  optimizer.step()\n",
        "\n",
        "  if i % 10 == 0:\n",
        "    print(loss.data)\n",
        "\n",
        "param_list = list(model.parameters())\n",
        "print(param_list[0].item(), param_list[1].item())"
      ],
      "metadata": {
        "colab": {
          "base_uri": "https://localhost:8080/"
        },
        "id": "KrEto9CgEbnF",
        "outputId": "ba7ee004-81db-4c69-ebcb-72fb2061329a"
      },
      "execution_count": 16,
      "outputs": [
        {
          "output_type": "stream",
          "name": "stdout",
          "text": [
            "tensor(0.7997)\n",
            "tensor(0.7990)\n",
            "tensor(0.7985)\n",
            "tensor(0.7980)\n",
            "tensor(0.7976)\n",
            "tensor(0.7972)\n",
            "tensor(0.7970)\n",
            "tensor(0.7967)\n",
            "tensor(0.7966)\n",
            "tensor(0.7964)\n",
            "tensor(0.7962)\n",
            "tensor(0.7961)\n",
            "tensor(0.7960)\n",
            "tensor(0.7960)\n",
            "tensor(0.7959)\n",
            "tensor(0.7959)\n",
            "tensor(0.7958)\n",
            "tensor(0.7958)\n",
            "tensor(0.7958)\n",
            "tensor(0.7957)\n",
            "tensor(0.7957)\n",
            "tensor(0.7957)\n",
            "tensor(0.7957)\n",
            "tensor(0.7957)\n",
            "tensor(0.7957)\n",
            "tensor(0.7957)\n",
            "tensor(0.7957)\n",
            "tensor(0.7957)\n",
            "tensor(0.7956)\n",
            "tensor(0.7956)\n",
            "tensor(0.7956)\n",
            "tensor(0.7956)\n",
            "tensor(0.7956)\n",
            "tensor(0.7956)\n",
            "tensor(0.7956)\n",
            "tensor(0.7956)\n",
            "tensor(0.7956)\n",
            "tensor(0.7956)\n",
            "tensor(0.7956)\n",
            "tensor(0.7956)\n",
            "tensor(0.7956)\n",
            "tensor(0.7956)\n",
            "tensor(0.7956)\n",
            "tensor(0.7956)\n",
            "tensor(0.7956)\n",
            "tensor(0.7955)\n",
            "tensor(0.7955)\n",
            "tensor(0.7955)\n",
            "tensor(0.7955)\n",
            "tensor(0.7955)\n",
            "1.998221516609192 2.9393715858459473\n"
          ]
        }
      ]
    },
    {
      "cell_type": "code",
      "source": [
        "import matplotlib.pyplot as plt\n",
        "\n",
        "plt.scatter(x.data.numpy(), y_noise.data.numpy())\n",
        "plt.plot(x.data.numpy(), y.data.numpy(), 'r-', lw=3)\n",
        "plt.xlabel(\"x\")\n",
        "plt.ylabel(\"y\")\n",
        "plt.show()"
      ],
      "metadata": {
        "colab": {
          "base_uri": "https://localhost:8080/",
          "height": 449
        },
        "id": "qN4dmVOREp5r",
        "outputId": "4b4136c0-0f96-4ea1-e81a-ae92ae392a53"
      },
      "execution_count": 14,
      "outputs": [
        {
          "output_type": "display_data",
          "data": {
            "text/plain": [
              "<Figure size 640x480 with 1 Axes>"
            ],
            "image/png": "[encoded data removed]"
          },
          "metadata": {}
        }
      ]
    },
    {
      "cell_type": "code",
      "source": [
        "plt.plot(loss_arr)\n",
        "plt.show()"
      ],
      "metadata": {
        "colab": {
          "base_uri": "https://localhost:8080/",
          "height": 430
        },
        "id": "xwK8gWvME_c1",
        "outputId": "d675f801-565b-4366-95f3-37c0890e4dc7"
      },
      "execution_count": 17,
      "outputs": [
        {
          "output_type": "display_data",
          "data": {
            "text/plain": [
              "<Figure size 640x480 with 1 Axes>"
            ],
            "image/png": "[encoded data removed]"
          },
          "metadata": {}
        }
      ]
    },
    {
      "cell_type": "code",
      "source": [],
      "metadata": {
        "id": "XV_3MLhqFU3c"
      },
      "execution_count": null,
      "outputs": []
    }
  ]
}